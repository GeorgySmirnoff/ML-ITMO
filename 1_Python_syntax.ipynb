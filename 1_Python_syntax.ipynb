{
  "nbformat": 4,
  "nbformat_minor": 0,
  "metadata": {
    "colab": {
      "name": "1_Python_syntax.ipynb",
      "provenance": [],
      "collapsed_sections": []
    },
    "kernelspec": {
      "display_name": "Python 3",
      "language": "python",
      "name": "python3"
    },
    "language_info": {
      "codemirror_mode": {
        "name": "ipython",
        "version": 3
      },
      "file_extension": ".py",
      "mimetype": "text/x-python",
      "name": "python",
      "nbconvert_exporter": "python",
      "pygments_lexer": "ipython3",
      "version": "3.7.4"
    }
  },
  "cells": [
    {
      "cell_type": "markdown",
      "metadata": {
        "id": "BsNwjQDRfmLY"
      },
      "source": [
        "# Задание 1"
      ]
    },
    {
      "cell_type": "markdown",
      "metadata": {
        "id": "wu6r1-s7fmLe"
      },
      "source": [
        "---"
      ]
    },
    {
      "cell_type": "markdown",
      "metadata": {
        "id": "zxRIdPO9gYyX"
      },
      "source": [
        "Напишите программу, которая будет решать систему линейных уравнений вида:\n",
        "\n",
        "\\begin{matrix} a_{11}x+a_{12}y=b_{1}&(1) \\\\ a_{21}x+a_{22}y=b_{2} &(2) \\end{matrix}\n",
        "​\t\n",
        "На вход программа должна принимать 2 строки.\n",
        "\n",
        "Каждая строка содержит 3 действительных числа через пробел: коэффициенты a и b.\n",
        "\n",
        "На выходе программа должна выдавать значения x и y в одну строку через пробел.\n",
        " \n",
        "\n",
        "Примечание 1. Для разделения строки на отдельные элементы используйте функцию split()\n",
        "\n",
        "Примечание 2. В качестве разделителя между целой и дробной частью используйте точку, например 0.2"
      ]
    },
    {
      "cell_type": "code",
      "metadata": {
        "id": "rpwYWIva1tTZ",
        "colab": {
          "base_uri": "https://localhost:8080/"
        },
        "outputId": "1423c41e-88fe-47aa-d79f-911c6640557b"
      },
      "source": [
        "\n",
        "import numpy\n",
        "str_1 = list(map(float, input().split()))\n",
        "str_1\n",
        "str_2 = list(map(float, input().split()))\n",
        "str_2\n",
        "def linan(str_1,str_2):\n",
        "  M1 = numpy.array([[str_1[0],str_1[1]], [str_2[0],str_2[1]]]) # Матрица (левая часть системы)\n",
        "  v1 = numpy.array([str_1[2], str_2[2]]) # Вектор (правая часть системы)\n",
        "  return numpy.linalg.solve(M1, v1)\n",
        "# enter you code\n",
        "result = linan(str_1, str_2)\n",
        "print(result[0], result[1])"
      ],
      "execution_count": null,
      "outputs": [
        {
          "output_type": "stream",
          "name": "stdout",
          "text": [
            "1 2 3\n",
            "7 8 9\n",
            "-1.0 2.0\n"
          ]
        }
      ]
    },
    {
      "cell_type": "markdown",
      "metadata": {
        "id": "wLoVDMQnfmOv"
      },
      "source": [
        "# Задание 2"
      ]
    },
    {
      "cell_type": "markdown",
      "metadata": {
        "id": "6bmt_YF3fmOw"
      },
      "source": [
        "Напишите функцию `decorate_matrix`, которая получает на вход одно целое число больше единицы. Функция должна возвращать матрицу n на n, у которой на границах стоят единицы, а на всех остальных позициях(если остались позиции не на границах) стоят нули.\n",
        "\n",
        "Нужно сделать без использования  циклов.\n",
        "\n",
        "```\n",
        "# ожидаемый резальтат для аргумента 5\n",
        "array([[1., 1., 1., 1., 1.],\n",
        "[1., 0., 0., 0., 1.],\n",
        "[1., 0., 0., 0., 1.],\n",
        "[1., 0., 0., 0., 1.],\n",
        "[1., 1., 1., 1., 1.]])\n",
        "```\n",
        "\n"
      ]
    },
    {
      "cell_type": "code",
      "metadata": {
        "colab": {
          "base_uri": "https://localhost:8080/"
        },
        "id": "7Yw1qFhQ4fLh",
        "outputId": "1cfb7fe1-800e-48ef-970c-294f4ab24b35"
      },
      "source": [
        "import numpy\n",
        "def decorate_matrix(n):\n",
        "  a = numpy.zeros((n, n))\n",
        "\n",
        "  a[:,n-1] = [1]\n",
        "  a[:,0] = [1]\n",
        "  a[:1,] = [1]\n",
        "  a[n-1:n,] = [1]\n",
        "  return a\n",
        "decorate_matrix(5)"
      ],
      "execution_count": null,
      "outputs": [
        {
          "output_type": "execute_result",
          "data": {
            "text/plain": [
              "array([[1., 1., 1., 1., 1.],\n",
              "       [1., 0., 0., 0., 1.],\n",
              "       [1., 0., 0., 0., 1.],\n",
              "       [1., 0., 0., 0., 1.],\n",
              "       [1., 1., 1., 1., 1.]])"
            ]
          },
          "metadata": {},
          "execution_count": 6
        }
      ]
    },
    {
      "cell_type": "markdown",
      "metadata": {
        "id": "75sxny1zSCbl"
      },
      "source": [
        "# Задание 3"
      ]
    },
    {
      "cell_type": "markdown",
      "metadata": {
        "id": "2Xq1tBBAS5UJ"
      },
      "source": [
        "1) реализуйте 2 функции:\n",
        "\n",
        "$f(x) = (x+a)^2 - b$ \n",
        "\n",
        "$g(x) = |f(x)|$\n",
        "\n",
        "2) Найдите аргументы, при которых достигается минимум функций $f(x)$ и $g(x)$\n",
        "\n",
        "Пример. \n",
        "Входные значение: $a=3$ и $b=4$\n",
        "\n",
        "Выходные значения:\n",
        "\n",
        "`-3.0 -1.0`"
      ]
    },
    {
      "cell_type": "code",
      "metadata": {
        "id": "42QvmNWKnn67",
        "colab": {
          "base_uri": "https://localhost:8080/"
        },
        "outputId": "e77fc6c2-6cba-4f3b-d684-e0bc4f3cb903"
      },
      "source": [
        "import math\n",
        "\n",
        "def f(x):\n",
        "    return (x + a) ** 2 - b\n",
        "\n",
        "def f_min(a, b):\n",
        "    return -a\n",
        "\n",
        "def g(x):\n",
        "    return abs(f(x))\n",
        "\n",
        "def g_min(a, b):\n",
        "    if (b <= 0):\n",
        "        return f_min(a, b)\n",
        "    else:\n",
        "      d = 4*a ** 2 - 4 * (a ** 2 - b)\n",
        "      x1 = (-2*a + math.sqrt(d))/2\n",
        "      x2 = (-2*a - math.sqrt(d))/2\n",
        "      return x1,x2\n",
        "def main():\n",
        "    global a, b\n",
        "    a = int(input())\n",
        "    b = int(input())\n",
        "    print('1st function=',f_min(a, b))\n",
        "    print('2nd function=',g_min(a, b))\n",
        "\n",
        "main()"
      ],
      "execution_count": null,
      "outputs": [
        {
          "output_type": "stream",
          "name": "stdout",
          "text": [
            "3\n",
            "4\n",
            "1st function= -3\n",
            "2nd function= (-1.0, -5.0)\n"
          ]
        }
      ]
    },
    {
      "cell_type": "markdown",
      "metadata": {
        "id": "efml9GzISC9Q"
      },
      "source": [
        "# Задание 4"
      ]
    },
    {
      "cell_type": "markdown",
      "metadata": {
        "id": "SDZvKcsTVbAW"
      },
      "source": [
        "Постройте графики для функций из предыдущего задания и отметьте другим цветом на графиках точки найденных минимумов."
      ]
    },
    {
      "cell_type": "code",
      "metadata": {
        "id": "G8kZB4UdnUoa",
        "colab": {
          "base_uri": "https://localhost:8080/",
          "height": 590
        },
        "outputId": "30d7cea9-7950-4fcb-cdfa-ec29b36ac6b8"
      },
      "source": [
        "import math\n",
        "import numpy as np\n",
        "import matplotlib.pyplot as plt\n",
        "\n",
        "import math\n",
        "\n",
        "def f(x):\n",
        "    return (x + a) ** 2 - b\n",
        "\n",
        "def f_min(a, b):\n",
        "    return -a\n",
        "\n",
        "def g(x):\n",
        "    return abs(f(x))\n",
        "\n",
        "def g_min(a, b):\n",
        "    if (b <= 0):\n",
        "        return f_min(a, b)\n",
        "    else:\n",
        "      d = 4*a ** 2 - 4 * (a ** 2 - b)\n",
        "      x1 = (-2*a + math.sqrt(d))/2\n",
        "      x2 = (-2*a - math.sqrt(d))/2\n",
        "      return x1,x2\n",
        "\n",
        "\n",
        "\n",
        "def main():\n",
        "    global a, b\n",
        "    a, b = [int(i) for i in input().split(' ')]\n",
        "    \n",
        "    offset = 10\n",
        "    x = np.linspace(-offset, offset, num=100)\n",
        "\n",
        "\n",
        "\n",
        "    plt.figure()\n",
        "    plt.plot(x, f(x))\n",
        "    # for point in f_min(a, b):\n",
        "    #   plt.scatter(point, f(point), label=\"f_min\", c=\"red\")\n",
        "    plt.scatter(f_min(a, b), f(f_min(a, b)), label=\"f_min\", c=\"red\")\n",
        "    plt.title(\"Минимумы функций f(x) и g(x)\")\n",
        "    plt.xlabel(\"X\")\n",
        "    plt.ylabel(\"Y\")\n",
        "    plt.grid()\n",
        "\n",
        "    # * Ставим точки\n",
        "\n",
        "    plt.figure()\n",
        "    plt.title(\"Минимумы функций f(x) и g(x)\")\n",
        "    plt.xlabel(\"X\")\n",
        "    plt.ylabel(\"Y\")\n",
        "    plt.grid()\n",
        "\n",
        "    # for point in g_min(a, b):\n",
        "        # plt.scatter(point, g(point), label=\"g_min\", c=\"blue\")\n",
        "\n",
        "    plt.scatter(g_min(a, b)[0], g(g_min(a, b)[0]), label=\"g_min\", c=\"blue\")\n",
        "    plt.scatter(g_min(a, b)[1], g(g_min(a, b)[1]), label=\"g_min\", c=\"blue\")\n",
        "    plt.plot(x, g(x))\n",
        "\n",
        "    plt.show()\n",
        "\n",
        "main()"
      ],
      "execution_count": null,
      "outputs": [
        {
          "name": "stdout",
          "output_type": "stream",
          "text": [
            "3 4\n"
          ]
        },
        {
          "output_type": "display_data",
          "data": {
            "image/png": "[encoded data removed]",
            "text/plain": [
              "<Figure size 432x288 with 1 Axes>"
            ]
          },
          "metadata": {
            "needs_background": "light"
          }
        },
        {
          "output_type": "display_data",
          "data": {
            "image/png": "[encoded data removed]",
            "text/plain": [
              "<Figure size 432x288 with 1 Axes>"
            ]
          },
          "metadata": {
            "needs_background": "light"
          }
        }
      ]
    },
    {
      "cell_type": "markdown",
      "metadata": {
        "id": "mrby3EfiSDKJ"
      },
      "source": [
        "# Задание 5"
      ]
    },
    {
      "cell_type": "markdown",
      "metadata": {
        "id": "J6AZ8785VkQd"
      },
      "source": [
        "1000 человек бросают монетку. Каждый бросил 10 раз подряд.\n",
        "\n",
        " 1. Какова вероятность того, что хотя бы у одного человека монетка выпала 10 раз подряд той же самой стороной (орлом или решкой)? \n",
        " 2. Какова вероятность того, что хотя бы у одного человека монетка выпала 8 раз подряд той же самой стороной (орлом или решкой)? \n",
        " 3. Какова вероятность того, что ровно у троих человек из 1000 монетка выпала 10 раз подряд той же самой стороной (орлом или решкой)?"
      ]
    },
    {
      "cell_type": "code",
      "metadata": {
        "id": "e-mJLTueqrUr",
        "colab": {
          "base_uri": "https://localhost:8080/"
        },
        "outputId": "7eba77a7-8809-423b-a898-b10329a33fb1"
      },
      "source": [
        "#1 Всего возможных вариантов выпадания 10 раз монетки - 2**10(1024) , нам подходят случаи только когда все орлы либо все решки =>2случая , \n",
        "#кол-во неблагоприятных исходов = 1022 , чтобы найти вероятность благопр вычтем из 1 =>(1-(1022/1024)**1000) возводим в степень 1000 тк бросают монетку 1000 человек\n",
        "print('1st ex=',round((1-(1022/1024)**1000),4))\n",
        "#2 Всего возможных вариантов выпадания 8 раз монетки - 2**8(256) и далее схожее решение как в 1 задании\n",
        "print('2nd ex=',round((1-(254/256)**1000),4))\n",
        "#3 Задача на независимые события , поэтому воспользуемся формулой Бернулли ,k=3,n=1000,p=(2/1024),q=(1-2/1024) kCn=1000!/3!*997!\n",
        "print('3d ex=',round(((998*999*1000)/6)*(((2/1024)**3)*((1-2/1024)**997)),4))\n",
        "\n"
      ],
      "execution_count": null,
      "outputs": [
        {
          "output_type": "stream",
          "name": "stdout",
          "text": [
            "1st ex= 0.8584\n",
            "2nd ex= 0.9996\n",
            "3d ex= 0.1763\n"
          ]
        }
      ]
    }
  ]
}